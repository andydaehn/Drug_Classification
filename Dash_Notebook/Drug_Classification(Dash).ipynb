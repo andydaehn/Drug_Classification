{
 "cells": [
  {
   "cell_type": "markdown",
   "metadata": {
    "id": "2dVaaRaGWggY"
   },
   "source": [
    "# Drug Classification Analysis"
   ]
  },
  {
   "cell_type": "markdown",
   "metadata": {
    "id": "onD3KQy-Dxw1"
   },
   "source": [
    "This analysis will help predict the best drug to use for a particular patient, based on medical data from 200 patients, by classifying the patient to the drug profile."
   ]
  },
  {
   "cell_type": "markdown",
   "metadata": {
    "id": "zMbozx7IldCu"
   },
   "source": [
    "## Import Libraries and Data"
   ]
  },
  {
   "cell_type": "code",
   "execution_count": 1,
   "metadata": {
    "colab": {
     "base_uri": "https://localhost:8080/"
    },
    "id": "WH9cr-M6qM83",
    "outputId": "388c0a5f-32f0-46ff-dcea-19e1cf24fdfb"
   },
   "outputs": [
    {
     "name": "stdout",
     "output_type": "stream",
     "text": [
      "Requirement already satisfied: jupyter-dash in c:\\users\\andyd\\anaconda3\\lib\\site-packages (0.4.2)\n",
      "Requirement already satisfied: ipython in c:\\users\\andyd\\anaconda3\\lib\\site-packages (from jupyter-dash) (8.2.0)\n",
      "Requirement already satisfied: ipykernel in c:\\users\\andyd\\anaconda3\\lib\\site-packages (from jupyter-dash) (6.9.1)\n",
      "Requirement already satisfied: flask in c:\\users\\andyd\\anaconda3\\lib\\site-packages (from jupyter-dash) (1.1.2)\n",
      "Requirement already satisfied: nest-asyncio in c:\\users\\andyd\\anaconda3\\lib\\site-packages (from jupyter-dash) (1.5.5)\n",
      "Requirement already satisfied: dash in c:\\users\\andyd\\anaconda3\\lib\\site-packages (from jupyter-dash) (2.6.1)\n",
      "Requirement already satisfied: requests in c:\\users\\andyd\\anaconda3\\lib\\site-packages (from jupyter-dash) (2.27.1)\n",
      "Requirement already satisfied: retrying in c:\\users\\andyd\\anaconda3\\lib\\site-packages (from jupyter-dash) (1.3.3)\n",
      "Requirement already satisfied: ansi2html in c:\\users\\andyd\\anaconda3\\lib\\site-packages (from jupyter-dash) (1.8.0)\n",
      "Requirement already satisfied: plotly>=5.0.0 in c:\\users\\andyd\\anaconda3\\lib\\site-packages (from dash->jupyter-dash) (5.6.0)\n",
      "Requirement already satisfied: dash-core-components==2.0.0 in c:\\users\\andyd\\anaconda3\\lib\\site-packages (from dash->jupyter-dash) (2.0.0)\n",
      "Requirement already satisfied: dash-html-components==2.0.0 in c:\\users\\andyd\\anaconda3\\lib\\site-packages (from dash->jupyter-dash) (2.0.0)\n",
      "Requirement already satisfied: dash-table==5.0.0 in c:\\users\\andyd\\anaconda3\\lib\\site-packages (from dash->jupyter-dash) (5.0.0)\n",
      "Requirement already satisfied: flask-compress in c:\\users\\andyd\\anaconda3\\lib\\site-packages (from dash->jupyter-dash) (1.12)\n",
      "Requirement already satisfied: Jinja2>=2.10.1 in c:\\users\\andyd\\anaconda3\\lib\\site-packages (from flask->jupyter-dash) (3.0.3)\n",
      "Requirement already satisfied: Werkzeug>=0.15 in c:\\users\\andyd\\anaconda3\\lib\\site-packages (from flask->jupyter-dash) (2.0.3)\n",
      "Requirement already satisfied: click>=5.1 in c:\\users\\andyd\\anaconda3\\lib\\site-packages (from flask->jupyter-dash) (8.0.4)\n",
      "Requirement already satisfied: itsdangerous>=0.24 in c:\\users\\andyd\\anaconda3\\lib\\site-packages (from flask->jupyter-dash) (2.0.1)\n",
      "Requirement already satisfied: colorama in c:\\users\\andyd\\anaconda3\\lib\\site-packages (from click>=5.1->flask->jupyter-dash) (0.4.4)\n",
      "Requirement already satisfied: MarkupSafe>=2.0 in c:\\users\\andyd\\anaconda3\\lib\\site-packages (from Jinja2>=2.10.1->flask->jupyter-dash) (2.0.1)\n",
      "Requirement already satisfied: tenacity>=6.2.0 in c:\\users\\andyd\\anaconda3\\lib\\site-packages (from plotly>=5.0.0->dash->jupyter-dash) (8.0.1)\n",
      "Requirement already satisfied: six in c:\\users\\andyd\\anaconda3\\lib\\site-packages (from plotly>=5.0.0->dash->jupyter-dash) (1.16.0)\n",
      "Requirement already satisfied: brotli in c:\\users\\andyd\\anaconda3\\lib\\site-packages (from flask-compress->dash->jupyter-dash) (1.0.9)\n",
      "Requirement already satisfied: traitlets<6.0,>=5.1.0 in c:\\users\\andyd\\anaconda3\\lib\\site-packages (from ipykernel->jupyter-dash) (5.1.1)\n",
      "Requirement already satisfied: jupyter-client<8.0 in c:\\users\\andyd\\anaconda3\\lib\\site-packages (from ipykernel->jupyter-dash) (6.1.12)\n",
      "Requirement already satisfied: matplotlib-inline<0.2.0,>=0.1.0 in c:\\users\\andyd\\anaconda3\\lib\\site-packages (from ipykernel->jupyter-dash) (0.1.2)\n",
      "Requirement already satisfied: tornado<7.0,>=4.2 in c:\\users\\andyd\\anaconda3\\lib\\site-packages (from ipykernel->jupyter-dash) (6.1)\n",
      "Requirement already satisfied: debugpy<2.0,>=1.0.0 in c:\\users\\andyd\\anaconda3\\lib\\site-packages (from ipykernel->jupyter-dash) (1.5.1)\n",
      "Requirement already satisfied: decorator in c:\\users\\andyd\\anaconda3\\lib\\site-packages (from ipython->jupyter-dash) (5.1.1)\n",
      "Requirement already satisfied: jedi>=0.16 in c:\\users\\andyd\\anaconda3\\lib\\site-packages (from ipython->jupyter-dash) (0.18.1)\n",
      "Requirement already satisfied: stack-data in c:\\users\\andyd\\anaconda3\\lib\\site-packages (from ipython->jupyter-dash) (0.2.0)\n",
      "Requirement already satisfied: prompt-toolkit!=3.0.0,!=3.0.1,<3.1.0,>=2.0.0 in c:\\users\\andyd\\anaconda3\\lib\\site-packages (from ipython->jupyter-dash) (3.0.20)\n",
      "Requirement already satisfied: setuptools>=18.5 in c:\\users\\andyd\\anaconda3\\lib\\site-packages (from ipython->jupyter-dash) (61.2.0)\n",
      "Requirement already satisfied: backcall in c:\\users\\andyd\\anaconda3\\lib\\site-packages (from ipython->jupyter-dash) (0.2.0)\n",
      "Requirement already satisfied: pygments>=2.4.0 in c:\\users\\andyd\\anaconda3\\lib\\site-packages (from ipython->jupyter-dash) (2.11.2)\n",
      "Requirement already satisfied: pickleshare in c:\\users\\andyd\\anaconda3\\lib\\site-packages (from ipython->jupyter-dash) (0.7.5)\n",
      "Requirement already satisfied: parso<0.9.0,>=0.8.0 in c:\\users\\andyd\\anaconda3\\lib\\site-packages (from jedi>=0.16->ipython->jupyter-dash) (0.8.3)\n",
      "Requirement already satisfied: jupyter-core>=4.6.0 in c:\\users\\andyd\\anaconda3\\lib\\site-packages (from jupyter-client<8.0->ipykernel->jupyter-dash) (4.11.1)\n",
      "Requirement already satisfied: python-dateutil>=2.1 in c:\\users\\andyd\\anaconda3\\lib\\site-packages (from jupyter-client<8.0->ipykernel->jupyter-dash) (2.8.2)\n",
      "Requirement already satisfied: pyzmq>=13 in c:\\users\\andyd\\anaconda3\\lib\\site-packages (from jupyter-client<8.0->ipykernel->jupyter-dash) (22.3.0)\n",
      "Requirement already satisfied: pywin32>=1.0 in c:\\users\\andyd\\anaconda3\\lib\\site-packages (from jupyter-core>=4.6.0->jupyter-client<8.0->ipykernel->jupyter-dash) (302)\n",
      "Requirement already satisfied: wcwidth in c:\\users\\andyd\\anaconda3\\lib\\site-packages (from prompt-toolkit!=3.0.0,!=3.0.1,<3.1.0,>=2.0.0->ipython->jupyter-dash) (0.2.5)\n",
      "Requirement already satisfied: certifi>=2017.4.17 in c:\\users\\andyd\\anaconda3\\lib\\site-packages (from requests->jupyter-dash) (2022.6.15)\n",
      "Requirement already satisfied: urllib3<1.27,>=1.21.1 in c:\\users\\andyd\\anaconda3\\lib\\site-packages (from requests->jupyter-dash) (1.26.9)\n",
      "Requirement already satisfied: idna<4,>=2.5 in c:\\users\\andyd\\anaconda3\\lib\\site-packages (from requests->jupyter-dash) (3.3)\n",
      "Requirement already satisfied: charset-normalizer~=2.0.0 in c:\\users\\andyd\\anaconda3\\lib\\site-packages (from requests->jupyter-dash) (2.0.4)\n",
      "Requirement already satisfied: pure-eval in c:\\users\\andyd\\anaconda3\\lib\\site-packages (from stack-data->ipython->jupyter-dash) (0.2.2)\n",
      "Requirement already satisfied: executing in c:\\users\\andyd\\anaconda3\\lib\\site-packages (from stack-data->ipython->jupyter-dash) (0.8.3)\n",
      "Requirement already satisfied: asttokens in c:\\users\\andyd\\anaconda3\\lib\\site-packages (from stack-data->ipython->jupyter-dash) (2.0.5)\n"
     ]
    }
   ],
   "source": [
    "!pip install jupyter-dash"
   ]
  },
  {
   "cell_type": "code",
   "execution_count": 2,
   "metadata": {
    "id": "4PRKL0sC65PB"
   },
   "outputs": [],
   "source": [
    "# Import libraries necessary for this project\n",
    "import numpy as np\n",
    "import pandas as pd\n",
    "from sklearn.model_selection import train_test_split\n",
    "from sklearn.ensemble import RandomForestClassifier\n",
    "from sklearn.tree import DecisionTreeClassifier\n",
    "from sklearn.metrics import accuracy_score, classification_report\n",
    "from sklearn.preprocessing import StandardScaler, OneHotEncoder\n",
    "from sklearn.model_selection import GridSearchCV\n",
    "from sklearn.pipeline import Pipeline\n",
    "import plotly.express as px\n",
    "\n",
    "# Ensure visualizations can be viewed by all\n",
    "colorblind_seq = ['#E66100', '#5D3A9B']\n",
    "\n",
    "# Load the dataset\n",
    "explore_df = pd.read_csv('drug200.csv')"
   ]
  },
  {
   "cell_type": "markdown",
   "metadata": {
    "id": "TQxRpyzJLIwJ"
   },
   "source": [
    "## Exploratory Data Analysis"
   ]
  },
  {
   "cell_type": "code",
   "execution_count": 3,
   "metadata": {
    "colab": {
     "base_uri": "https://localhost:8080/",
     "height": 206
    },
    "id": "Kx93OjgvehsR",
    "outputId": "7fbdc9b9-a534-4b3e-de98-f3a3877559e3"
   },
   "outputs": [
    {
     "data": {
      "text/html": [
       "<div>\n",
       "<style scoped>\n",
       "    .dataframe tbody tr th:only-of-type {\n",
       "        vertical-align: middle;\n",
       "    }\n",
       "\n",
       "    .dataframe tbody tr th {\n",
       "        vertical-align: top;\n",
       "    }\n",
       "\n",
       "    .dataframe thead th {\n",
       "        text-align: right;\n",
       "    }\n",
       "</style>\n",
       "<table border=\"1\" class=\"dataframe\">\n",
       "  <thead>\n",
       "    <tr style=\"text-align: right;\">\n",
       "      <th></th>\n",
       "      <th>Age</th>\n",
       "      <th>Sex</th>\n",
       "      <th>BP</th>\n",
       "      <th>Cholesterol</th>\n",
       "      <th>Na_to_K</th>\n",
       "      <th>Drug</th>\n",
       "    </tr>\n",
       "  </thead>\n",
       "  <tbody>\n",
       "    <tr>\n",
       "      <th>0</th>\n",
       "      <td>23</td>\n",
       "      <td>F</td>\n",
       "      <td>HIGH</td>\n",
       "      <td>HIGH</td>\n",
       "      <td>25.355</td>\n",
       "      <td>DrugY</td>\n",
       "    </tr>\n",
       "    <tr>\n",
       "      <th>1</th>\n",
       "      <td>47</td>\n",
       "      <td>M</td>\n",
       "      <td>LOW</td>\n",
       "      <td>HIGH</td>\n",
       "      <td>13.093</td>\n",
       "      <td>drugC</td>\n",
       "    </tr>\n",
       "    <tr>\n",
       "      <th>2</th>\n",
       "      <td>47</td>\n",
       "      <td>M</td>\n",
       "      <td>LOW</td>\n",
       "      <td>HIGH</td>\n",
       "      <td>10.114</td>\n",
       "      <td>drugC</td>\n",
       "    </tr>\n",
       "    <tr>\n",
       "      <th>3</th>\n",
       "      <td>28</td>\n",
       "      <td>F</td>\n",
       "      <td>NORMAL</td>\n",
       "      <td>HIGH</td>\n",
       "      <td>7.798</td>\n",
       "      <td>drugX</td>\n",
       "    </tr>\n",
       "    <tr>\n",
       "      <th>4</th>\n",
       "      <td>61</td>\n",
       "      <td>F</td>\n",
       "      <td>LOW</td>\n",
       "      <td>HIGH</td>\n",
       "      <td>18.043</td>\n",
       "      <td>DrugY</td>\n",
       "    </tr>\n",
       "  </tbody>\n",
       "</table>\n",
       "</div>"
      ],
      "text/plain": [
       "   Age Sex      BP Cholesterol  Na_to_K   Drug\n",
       "0   23   F    HIGH        HIGH   25.355  DrugY\n",
       "1   47   M     LOW        HIGH   13.093  drugC\n",
       "2   47   M     LOW        HIGH   10.114  drugC\n",
       "3   28   F  NORMAL        HIGH    7.798  drugX\n",
       "4   61   F     LOW        HIGH   18.043  DrugY"
      ]
     },
     "execution_count": 3,
     "metadata": {},
     "output_type": "execute_result"
    }
   ],
   "source": [
    "explore_df.head()"
   ]
  },
  {
   "cell_type": "code",
   "execution_count": 4,
   "metadata": {
    "colab": {
     "base_uri": "https://localhost:8080/",
     "height": 300
    },
    "id": "YJCoSqCoTuep",
    "outputId": "f3128154-643a-4515-9209-e3970174fab3"
   },
   "outputs": [
    {
     "data": {
      "text/html": [
       "<div>\n",
       "<style scoped>\n",
       "    .dataframe tbody tr th:only-of-type {\n",
       "        vertical-align: middle;\n",
       "    }\n",
       "\n",
       "    .dataframe tbody tr th {\n",
       "        vertical-align: top;\n",
       "    }\n",
       "\n",
       "    .dataframe thead th {\n",
       "        text-align: right;\n",
       "    }\n",
       "</style>\n",
       "<table border=\"1\" class=\"dataframe\">\n",
       "  <thead>\n",
       "    <tr style=\"text-align: right;\">\n",
       "      <th></th>\n",
       "      <th>Age</th>\n",
       "      <th>Na_to_K</th>\n",
       "    </tr>\n",
       "  </thead>\n",
       "  <tbody>\n",
       "    <tr>\n",
       "      <th>count</th>\n",
       "      <td>200.000000</td>\n",
       "      <td>200.000000</td>\n",
       "    </tr>\n",
       "    <tr>\n",
       "      <th>mean</th>\n",
       "      <td>44.315000</td>\n",
       "      <td>16.084485</td>\n",
       "    </tr>\n",
       "    <tr>\n",
       "      <th>std</th>\n",
       "      <td>16.544315</td>\n",
       "      <td>7.223956</td>\n",
       "    </tr>\n",
       "    <tr>\n",
       "      <th>min</th>\n",
       "      <td>15.000000</td>\n",
       "      <td>6.269000</td>\n",
       "    </tr>\n",
       "    <tr>\n",
       "      <th>25%</th>\n",
       "      <td>31.000000</td>\n",
       "      <td>10.445500</td>\n",
       "    </tr>\n",
       "    <tr>\n",
       "      <th>50%</th>\n",
       "      <td>45.000000</td>\n",
       "      <td>13.936500</td>\n",
       "    </tr>\n",
       "    <tr>\n",
       "      <th>75%</th>\n",
       "      <td>58.000000</td>\n",
       "      <td>19.380000</td>\n",
       "    </tr>\n",
       "    <tr>\n",
       "      <th>max</th>\n",
       "      <td>74.000000</td>\n",
       "      <td>38.247000</td>\n",
       "    </tr>\n",
       "  </tbody>\n",
       "</table>\n",
       "</div>"
      ],
      "text/plain": [
       "              Age     Na_to_K\n",
       "count  200.000000  200.000000\n",
       "mean    44.315000   16.084485\n",
       "std     16.544315    7.223956\n",
       "min     15.000000    6.269000\n",
       "25%     31.000000   10.445500\n",
       "50%     45.000000   13.936500\n",
       "75%     58.000000   19.380000\n",
       "max     74.000000   38.247000"
      ]
     },
     "execution_count": 4,
     "metadata": {},
     "output_type": "execute_result"
    }
   ],
   "source": [
    "explore_df.describe()"
   ]
  },
  {
   "cell_type": "code",
   "execution_count": 5,
   "metadata": {
    "colab": {
     "base_uri": "https://localhost:8080/"
    },
    "id": "FNUJlliMTuJA",
    "outputId": "6bdc1b25-cc48-4bac-84f7-a039a3c6b93f"
   },
   "outputs": [
    {
     "name": "stdout",
     "output_type": "stream",
     "text": [
      "<class 'pandas.core.frame.DataFrame'>\n",
      "RangeIndex: 200 entries, 0 to 199\n",
      "Data columns (total 6 columns):\n",
      " #   Column       Non-Null Count  Dtype  \n",
      "---  ------       --------------  -----  \n",
      " 0   Age          200 non-null    int64  \n",
      " 1   Sex          200 non-null    object \n",
      " 2   BP           200 non-null    object \n",
      " 3   Cholesterol  200 non-null    object \n",
      " 4   Na_to_K      200 non-null    float64\n",
      " 5   Drug         200 non-null    object \n",
      "dtypes: float64(1), int64(1), object(4)\n",
      "memory usage: 9.5+ KB\n"
     ]
    }
   ],
   "source": [
    "explore_df.info()"
   ]
  },
  {
   "cell_type": "markdown",
   "metadata": {
    "id": "SxOt-ALKAWB3"
   },
   "source": [
    "### Univariate Analysis"
   ]
  },
  {
   "cell_type": "code",
   "execution_count": 6,
   "metadata": {
    "id": "va4Qb2IHq5x4"
   },
   "outputs": [],
   "source": [
    "# Imports for dashboards\n",
    "import dash\n",
    "from jupyter_dash import JupyterDash\n",
    "from dash import html, dcc\n",
    "from dash.dependencies import Input, Output\n",
    "import plotly.graph_objects as go"
   ]
  },
  {
   "cell_type": "code",
   "execution_count": 7,
   "metadata": {
    "colab": {
     "base_uri": "https://localhost:8080/",
     "height": 671
    },
    "id": "OQh8kNKN-xvM",
    "outputId": "56bd023c-e6fd-4b4a-ab0e-03442b322709"
   },
   "outputs": [
    {
     "data": {
      "text/html": [
       "\n",
       "        <iframe\n",
       "            width=\"100%\"\n",
       "            height=\"650\"\n",
       "            src=\"http://127.0.0.1:8050/\"\n",
       "            frameborder=\"0\"\n",
       "            allowfullscreen\n",
       "            \n",
       "        ></iframe>\n",
       "        "
      ],
      "text/plain": [
       "<IPython.lib.display.IFrame at 0x2b6f5b2d910>"
      ]
     },
     "metadata": {},
     "output_type": "display_data"
    }
   ],
   "source": [
    "# Create the application for Univariate Analysis\n",
    "app = JupyterDash(__name__)\n",
    "\n",
    "app.layout = html.Div(id = 'parent', children = [\n",
    "        \n",
    "        # Define dropdown\n",
    "        dcc.Dropdown( id = 'dropdown',\n",
    "        options = [{'label':c, 'value':c } for c in explore_df.columns],\n",
    "            value = 'Na_to_K'),\n",
    "            dcc.Graph(id = 'bar_plot')],\n",
    "        style = {'width': '20%'})\n",
    "    \n",
    "@app.callback(Output(component_id='bar_plot', component_property='figure'),\n",
    "              [Input(component_id='dropdown', component_property='value')])\n",
    "\n",
    "# Update the graph on callback\n",
    "def graph_update(dropdown_value):\n",
    "    fig = px.histogram(x = explore_df['{}'.format(dropdown_value)],\n",
    "                           title='Univariate Analysis',\n",
    "                           labels={'x':dropdown_value},\n",
    "                           nbins=30,\n",
    "                           color_discrete_sequence=colorblind_seq,\n",
    "                           width=700,\n",
    "                           height=500,)\n",
    "    # Return the new graph\n",
    "    return fig  \n",
    "\n",
    "# Run app and display result inline in the notebook\n",
    "app.run_server(mode='inline')"
   ]
  },
  {
   "cell_type": "markdown",
   "metadata": {
    "id": "JKp_O2mvBlMR"
   },
   "source": [
    "**Inference:** Na_to_k has a positive skew. "
   ]
  },
  {
   "cell_type": "code",
   "execution_count": 8,
   "metadata": {
    "colab": {
     "base_uri": "https://localhost:8080/"
    },
    "id": "LmTF9C3xBb_R",
    "outputId": "72bcead4-988a-4467-8967-6ed86dc1620b"
   },
   "outputs": [
    {
     "name": "stdout",
     "output_type": "stream",
     "text": [
      "Skewness of Na_to_K: 1.039341\n"
     ]
    }
   ],
   "source": [
    "# Skewness\n",
    "print(\"Skewness of Na_to_K: %f\" % explore_df['Na_to_K'].skew())"
   ]
  },
  {
   "cell_type": "markdown",
   "metadata": {
    "id": "DM9V3F-0UbK7"
   },
   "source": [
    "**Inference**: Drug Y is widely used compared to other drugs."
   ]
  },
  {
   "cell_type": "markdown",
   "metadata": {
    "id": "1rCJ-1ZNUxaw"
   },
   "source": [
    "### Bivariate Analysis"
   ]
  },
  {
   "cell_type": "code",
   "execution_count": 9,
   "metadata": {
    "colab": {
     "base_uri": "https://localhost:8080/",
     "height": 671
    },
    "id": "a31qLRHrCMR8",
    "outputId": "79210d27-d8f9-4a68-a440-6f8805d2cc5e"
   },
   "outputs": [
    {
     "data": {
      "text/html": [
       "\n",
       "        <iframe\n",
       "            width=\"100%\"\n",
       "            height=\"650\"\n",
       "            src=\"http://127.0.0.1:8050/\"\n",
       "            frameborder=\"0\"\n",
       "            allowfullscreen\n",
       "            \n",
       "        ></iframe>\n",
       "        "
      ],
      "text/plain": [
       "<IPython.lib.display.IFrame at 0x2b6f5359eb0>"
      ]
     },
     "metadata": {},
     "output_type": "display_data"
    }
   ],
   "source": [
    "# Create the application for graph of Drug, Age, Na_to_K\n",
    "app = JupyterDash(__name__)\n",
    "\n",
    "app.layout = html.Div(id = 'parent', children = [\n",
    "        \n",
    "        # Define dropdown\n",
    "        dcc.Dropdown( id = 'dropdown',\n",
    "        options = [{'label':'Na_to_K', 'value':'Na_to_K'},\n",
    "                   {'label':'Age', 'value':'Age'}],\n",
    "            value = 'Na_to_K'),\n",
    "            dcc.Graph(id = 'bar_plot')],\n",
    "        style = {'width': '20%'})\n",
    "    \n",
    "@app.callback(Output(component_id ='bar_plot', component_property='figure'),\n",
    "              [Input(component_id ='dropdown', component_property='value')])\n",
    "\n",
    "# Update the graph on callback\n",
    "def graph_update(dropdown_value):\n",
    "    fig = px.scatter(x = explore_df['Drug'],\n",
    "                       y = explore_df['{}'.format(dropdown_value)],\n",
    "                           title='Bivariate Analysis',\n",
    "                           labels={'x':'Drug','y':'{}'.format(dropdown_value)},\n",
    "                           color_discrete_sequence=colorblind_seq,\n",
    "                           width=700,\n",
    "                           height=500,)\n",
    "    # Return the new graph\n",
    "    return fig  \n",
    "\n",
    "# Run app and display result inline in the notebook\n",
    "app.run_server(mode='inline')"
   ]
  },
  {
   "cell_type": "markdown",
   "metadata": {
    "id": "27AXcGp9Lnuf"
   },
   "source": [
    "### Multivariate Analysis"
   ]
  },
  {
   "cell_type": "code",
   "execution_count": 10,
   "metadata": {
    "colab": {
     "base_uri": "https://localhost:8080/",
     "height": 671
    },
    "id": "t1VRWuEILadC",
    "outputId": "aafdff93-d1fc-4a95-d192-40afe6f4efeb"
   },
   "outputs": [
    {
     "data": {
      "text/html": [
       "\n",
       "        <iframe\n",
       "            width=\"100%\"\n",
       "            height=\"650\"\n",
       "            src=\"http://127.0.0.1:8050/\"\n",
       "            frameborder=\"0\"\n",
       "            allowfullscreen\n",
       "            \n",
       "        ></iframe>\n",
       "        "
      ],
      "text/plain": [
       "<IPython.lib.display.IFrame at 0x2b6f5b105b0>"
      ]
     },
     "metadata": {},
     "output_type": "display_data"
    }
   ],
   "source": [
    "# Create the application\n",
    "app = JupyterDash(__name__)\n",
    "\n",
    "app.layout = html.Div(id = 'parent', children = [\n",
    "        \n",
    "        # Define dropdown\n",
    "        dcc.Dropdown( id = 'dropdown',\n",
    "        options = [{'label':'Sex', 'value':'Sex'},\n",
    "                   {'label':'BP', 'value':'BP'},\n",
    "                   {'label':'Cholesterol', 'value':'Cholesterol'}],\n",
    "            value = 'Sex'),\n",
    "            dcc.Graph(id = 'bar_plot')],\n",
    "        style = {'width': '20%'})\n",
    "    \n",
    "@app.callback(Output(component_id ='bar_plot', component_property = 'figure'),\n",
    "              [Input(component_id ='dropdown', component_property = 'value')])\n",
    "\n",
    "# Update the graph on callback\n",
    "def graph_update(dropdown_value):\n",
    "    fig = px.histogram(x = explore_df['Drug'],\n",
    "                           title = 'Multivariate Analysis',\n",
    "                           barmode = 'group',\n",
    "                           color = explore_df['{}'.format(dropdown_value)],\n",
    "                           labels = {'x':'Drug'},\n",
    "                           nbins = 30,\n",
    "                           color_discrete_sequence=colorblind_seq,\n",
    "                           width = 700,\n",
    "                           height = 500,)\n",
    "    # Return the new graph\n",
    "    return fig  \n",
    "\n",
    "# Run app and display result inline in the notebook\n",
    "app.run_server(mode='inline')"
   ]
  },
  {
   "cell_type": "markdown",
   "metadata": {
    "id": "uyY52-Swb_Xo"
   },
   "source": [
    "### Data Wrangling"
   ]
  },
  {
   "cell_type": "code",
   "execution_count": 11,
   "metadata": {
    "id": "1rqVt6coSsib"
   },
   "outputs": [],
   "source": [
    "# Make age into 7 groups\n",
    "bin_age = [0, 19, 29, 39, 49, 59, 69, 80]\n",
    "category_age = ['<20s', '20s', '30s', '40s', '50s', '60s', '>60s']\n",
    "explore_df['Age_binned'] = pd.cut(explore_df['Age'], bins=bin_age, labels=category_age)"
   ]
  },
  {
   "cell_type": "code",
   "execution_count": 12,
   "metadata": {
    "id": "Cd8fd0lgYYPB"
   },
   "outputs": [],
   "source": [
    "# Create new column that combines both BP and Cholesterol\n",
    "explore_df['BP_Chol'] = explore_df['BP'].str.cat(explore_df['Cholesterol'],sep=\" \")"
   ]
  },
  {
   "cell_type": "code",
   "execution_count": 13,
   "metadata": {
    "id": "YyaxF2l3Ssbb"
   },
   "outputs": [],
   "source": [
    "# Make Na_to_K into 5 groups\n",
    "bin_NatoK = [0, 9, 19, 29, 50]\n",
    "category_NatoK = ['<10', '10-20', '20-30', '>30']\n",
    "explore_df['Na_to_K_binned'] = pd.cut(explore_df['Na_to_K'], bins=bin_NatoK, labels=category_NatoK)"
   ]
  },
  {
   "cell_type": "code",
   "execution_count": 14,
   "metadata": {
    "id": "-HldoRSAOhND"
   },
   "outputs": [],
   "source": [
    "# Split data into features and target\n",
    "y_df = explore_df['Drug']\n",
    "X_df = explore_df.drop(['Drug'],axis=1)"
   ]
  },
  {
   "cell_type": "markdown",
   "metadata": {
    "id": "i0XzzcuTOX28"
   },
   "source": [
    "## Split, Encode, Train, and Test the Data"
   ]
  },
  {
   "cell_type": "code",
   "execution_count": 15,
   "metadata": {
    "id": "NvOqsdLHLdxJ"
   },
   "outputs": [],
   "source": [
    "# Split the data\n",
    "X_train, X_test, y_train, y_test = train_test_split(X_df, y_df, test_size=0.2, random_state=22)"
   ]
  },
  {
   "cell_type": "code",
   "execution_count": 16,
   "metadata": {
    "id": "3XbpWFonAIgp"
   },
   "outputs": [],
   "source": [
    "# Encode the data\n",
    "X_train, X_test = [pd.get_dummies(df) for df in [X_train, X_test]]\n",
    "y_train, y_test = [pd.get_dummies(df) for df in [y_train, y_test]]"
   ]
  },
  {
   "cell_type": "code",
   "execution_count": 17,
   "metadata": {
    "colab": {
     "base_uri": "https://localhost:8080/"
    },
    "id": "qaZrI-g_eDLc",
    "outputId": "5980c47e-4660-485a-cc4e-213eb94f47e2"
   },
   "outputs": [
    {
     "name": "stdout",
     "output_type": "stream",
     "text": [
      "Fitting 5 folds for each of 54 candidates, totalling 270 fits\n"
     ]
    },
    {
     "name": "stderr",
     "output_type": "stream",
     "text": [
      "C:\\Users\\andyd\\anaconda3\\lib\\site-packages\\sklearn\\model_selection\\_search.py:969: UserWarning:\n",
      "\n",
      "One or more of the test scores are non-finite: [nan nan nan nan nan nan nan nan nan nan nan nan nan nan nan nan nan nan\n",
      " nan nan nan nan nan nan nan nan nan nan nan nan nan nan nan nan nan nan\n",
      " nan nan nan nan nan nan nan nan nan nan nan nan nan nan nan nan nan nan]\n",
      "\n"
     ]
    },
    {
     "data": {
      "text/plain": [
       "{'rfc__max_depth': 4,\n",
       " 'rfc__max_features': 2,\n",
       " 'rfc__min_samples_leaf': 3,\n",
       " 'rfc__n_estimators': 100}"
      ]
     },
     "execution_count": 17,
     "metadata": {},
     "output_type": "execute_result"
    }
   ],
   "source": [
    "# Feed pipeline into GridSearchCV\n",
    "pipeline = Pipeline([('scaler' ,StandardScaler()),\n",
    "                     ('rfc',RandomForestClassifier())])\n",
    "\n",
    "param_grid = {\n",
    "    'rfc__max_depth': [4, 5, 10],\n",
    "    'rfc__max_features': [2, 3],\n",
    "    'rfc__min_samples_leaf': [3, 4, 5],\n",
    "    'rfc__n_estimators': [100, 200, 300]}\n",
    "\n",
    "# Initialize\n",
    "grid_pipeline = GridSearchCV(pipeline, param_grid, n_jobs=-1, verbose=1, cv=5, scoring='f1')\n",
    "# Fit\n",
    "grid_pipeline.fit(X_train,y_train)\n",
    "grid_pipeline.best_params_"
   ]
  },
  {
   "cell_type": "code",
   "execution_count": 18,
   "metadata": {
    "colab": {
     "base_uri": "https://localhost:8080/"
    },
    "id": "wB8dZvOSZ4G6",
    "outputId": "1c42fad8-e4c9-489a-f476-b8fd045d3ad4"
   },
   "outputs": [
    {
     "name": "stdout",
     "output_type": "stream",
     "text": [
      "Results for Random Forest Classifier\n",
      "The training accuracy is 68.12 %\n",
      "The test accuracy is 65.0 %\n"
     ]
    }
   ],
   "source": [
    "# Train the data on the Random Forest Classifier and test the accuracy\n",
    "rfc = RandomForestClassifier(max_depth=4, max_features=2, min_samples_leaf=3, n_estimators=100)\n",
    "rfc.fit(X_train,y_train)\n",
    "\n",
    "# Making predictions\n",
    "y_train_pred = rfc.predict(X_train)\n",
    "y_test_pred = rfc.predict(X_test)\n",
    "\n",
    "# Get Scores\n",
    "train_accuracy = accuracy_score(y_train, y_train_pred)\n",
    "test_accuracy = accuracy_score(y_test, y_test_pred)\n",
    "print('Results for Random Forest Classifier')\n",
    "print('The training accuracy is',round((train_accuracy*100),2),'%')\n",
    "print('The test accuracy is', round((test_accuracy*100),2),'%')\n"
   ]
  },
  {
   "cell_type": "code",
   "execution_count": 19,
   "metadata": {
    "colab": {
     "base_uri": "https://localhost:8080/"
    },
    "id": "4iCgs5ATT3HY",
    "outputId": "56fcc3dc-10b0-4b60-9895-15cf63973b82"
   },
   "outputs": [
    {
     "name": "stdout",
     "output_type": "stream",
     "text": [
      "              precision    recall  f1-score   support\n",
      "\n",
      "           0       1.00      1.00      1.00        20\n",
      "           1       0.00      0.00      0.00         7\n",
      "\n",
      "   micro avg       1.00      0.74      0.85        27\n",
      "   macro avg       0.50      0.50      0.50        27\n",
      "weighted avg       0.74      0.74      0.74        27\n",
      " samples avg       0.50      0.50      0.50        27\n",
      "\n"
     ]
    }
   ],
   "source": [
    "''' Classification report will return 0.0 (warning) when \n",
    "    there is not a f1 score to calculate for a label '''\n",
    "import warnings\n",
    "warnings.filterwarnings('ignore')\n",
    "print(classification_report(y_test, y_test_pred, labels=np.unique(y_test_pred)))"
   ]
  },
  {
   "cell_type": "code",
   "execution_count": 20,
   "metadata": {
    "colab": {
     "base_uri": "https://localhost:8080/"
    },
    "id": "QyMjraxVgW8z",
    "outputId": "05b63fe6-954b-4fa5-8525-af246ddea993"
   },
   "outputs": [
    {
     "name": "stdout",
     "output_type": "stream",
     "text": [
      "Fitting 5 folds for each of 36 candidates, totalling 180 fits\n"
     ]
    },
    {
     "data": {
      "text/plain": [
       "{'dtc__criterion': 'gini', 'dtc__max_depth': 2, 'dtc__min_samples_leaf': 5}"
      ]
     },
     "execution_count": 20,
     "metadata": {},
     "output_type": "execute_result"
    }
   ],
   "source": [
    "# Feed pipeline into GridSearchCV\n",
    "pipeline = Pipeline([('scaler', StandardScaler()),\n",
    "                     ('dtc', DecisionTreeClassifier())])\n",
    "\n",
    "param_grid = {\n",
    "    'dtc__min_samples_leaf':[5,10,15],\n",
    "    'dtc__criterion':['gini', 'entropy'],\n",
    "    'dtc__max_depth':[2,4,6,8,10,12]}\n",
    "# Initialize\n",
    "grid_pipeline = GridSearchCV(pipeline, param_grid, n_jobs=-1, verbose=1, cv=5, scoring='f1')\n",
    "# Fit\n",
    "grid_pipeline.fit(X_train,y_train)\n",
    "grid_pipeline.best_params_"
   ]
  },
  {
   "cell_type": "code",
   "execution_count": 21,
   "metadata": {
    "colab": {
     "base_uri": "https://localhost:8080/"
    },
    "id": "zweJGy-T3WDc",
    "outputId": "04eefc40-8774-4119-f98d-3626f349e8c0"
   },
   "outputs": [
    {
     "name": "stdout",
     "output_type": "stream",
     "text": [
      "Results for Decision Tree Classifier\n",
      "The training accuracy is 83.12 %\n",
      "The test accuracy is 85.0 %\n"
     ]
    }
   ],
   "source": [
    "# Train the data on the Decision Tree Classifier and test the accuracy\n",
    "dtc = DecisionTreeClassifier(criterion='gini', max_depth=2, min_samples_leaf=5)\n",
    "dtc.fit(X_train,y_train)\n",
    "\n",
    "# Making predictions\n",
    "y_train_pred = dtc.predict(X_train)\n",
    "y_test_pred = dtc.predict(X_test)\n",
    "\n",
    "# Get Scores\n",
    "train_accuracy = accuracy_score(y_train, y_train_pred)\n",
    "test_accuracy = accuracy_score(y_test, y_test_pred)\n",
    "print('Results for Decision Tree Classifier')\n",
    "print('The training accuracy is',round((train_accuracy*100),2),'%')\n",
    "print('The test accuracy is', round((test_accuracy*100),2),'%')"
   ]
  },
  {
   "cell_type": "code",
   "execution_count": 22,
   "metadata": {
    "colab": {
     "base_uri": "https://localhost:8080/"
    },
    "id": "_FLSuMz6KLo0",
    "outputId": "da7a8ec5-4b47-4780-b20f-6d5eb21b5692"
   },
   "outputs": [
    {
     "name": "stdout",
     "output_type": "stream",
     "text": [
      "              precision    recall  f1-score   support\n",
      "\n",
      "           0       0.95      1.00      0.98        20\n",
      "           1       0.64      1.00      0.78         7\n",
      "\n",
      "   micro avg       0.84      1.00      0.92        27\n",
      "   macro avg       0.79      1.00      0.88        27\n",
      "weighted avg       0.87      1.00      0.92        27\n",
      " samples avg       0.68      0.68      0.68        27\n",
      "\n"
     ]
    }
   ],
   "source": [
    "print(classification_report(y_test, y_test_pred, labels=np.unique(y_test_pred)))"
   ]
  }
 ],
 "metadata": {
  "colab": {
   "name": "Drug_Classification(Dash).ipynb",
   "provenance": []
  },
  "kernelspec": {
   "display_name": "Python 3 (ipykernel)",
   "language": "python",
   "name": "python3"
  },
  "language_info": {
   "codemirror_mode": {
    "name": "ipython",
    "version": 3
   },
   "file_extension": ".py",
   "mimetype": "text/x-python",
   "name": "python",
   "nbconvert_exporter": "python",
   "pygments_lexer": "ipython3",
   "version": "3.9.12"
  }
 },
 "nbformat": 4,
 "nbformat_minor": 1
}
